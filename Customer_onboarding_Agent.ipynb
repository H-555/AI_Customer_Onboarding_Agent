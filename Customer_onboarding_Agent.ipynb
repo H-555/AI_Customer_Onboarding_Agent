{
 "cells": [
  {
   "cell_type": "code",
   "execution_count": 1,
   "id": "cfaa7ab4-eaac-4422-836b-b9967431a0a6",
   "metadata": {},
   "outputs": [],
   "source": [
    "import json\n",
    "import os\n",
    "import autogen\n",
    "from autogen import ConversableAgent"
   ]
  },
  {
   "cell_type": "code",
   "execution_count": 2,
   "id": "06409bdb-ce1b-4953-a97c-39c8b01ec67a",
   "metadata": {},
   "outputs": [],
   "source": [
    "llm_config = {\"model\": \"llama3.1\",\"api_type\":\"ollama\"}"
   ]
  },
  {
   "cell_type": "code",
   "execution_count": 3,
   "id": "26dccc0c-a7a8-4c1d-83c2-b1172cbbf66e",
   "metadata": {},
   "outputs": [],
   "source": [
    "onboarding_personal_information_agent = ConversableAgent(\n",
    "    name=\"onboarding_personal_information_agent\",  # Removed spaces\n",
    "    system_message='''You are a helpful customer onboarding agent.\n",
    "    You are here to help new customers get started with our product.\n",
    "    Your job is to gather customer's name and location.\n",
    "    Do not ask for other information. Return 'TERMINATE' \n",
    "    when you have gathered all the information.''',\n",
    "    llm_config=llm_config,\n",
    "    code_execution_config=False,\n",
    "    human_input_mode=\"NEVER\",\n",
    ")\n",
    "\n",
    "onboarding_topic_preference_agent = ConversableAgent(\n",
    "    name=\"onboarding_topic_preference_agent\",  # Removed spaces\n",
    "    system_message='''You are a helpful customer onboarding agent.\n",
    "    You are here to help new customers get started with our product.\n",
    "    Your job is to gather customer's preferences on news topics.\n",
    "    Do not ask for other information.\n",
    "    Return 'TERMINATE' when you have gathered all the information.''',\n",
    "    llm_config={\n",
    "        \"timeout\":600,\n",
    "        \"cache_seed\":42,\n",
    "        \"temperature\":0.5,\n",
    "        \"config_list\":llm_config,\n",
    "    },\n",
    "    code_execution_config=False,\n",
    "    human_input_mode=\"NEVER\",\n",
    ")\n",
    "\n",
    "customer_engagement_agent = ConversableAgent(\n",
    "    name=\"customer_engagement_agent\",  # Removed spaces\n",
    "    system_message='''You are a helpful customer service agent.\n",
    "    You are here to provide fun for the customer based on the user's\n",
    "    personal information and topic preferences.\n",
    "    This could include fun facts, jokes, or interesting stories.\n",
    "    Make sure to make it engaging and fun!\n",
    "    Return 'TERMINATE' when you are done.''',\n",
    "    llm_config={\n",
    "        \"timeout\":600,\n",
    "        \"cache_seed\":42,\n",
    "        \"temperature\":0.5,\n",
    "        \"config_list\":llm_config,\n",
    "    },\n",
    "    code_execution_config=False,\n",
    "    human_input_mode=\"NEVER\",\n",
    "    is_termination_msg=lambda msg: \"terminate\" in msg.get(\"content\").lower(),\n",
    ")\n",
    "\n",
    "customer_proxy_agent = ConversableAgent(\n",
    "    name=\"customer_proxy_agent\",\n",
    "    llm_config=False,\n",
    "    code_execution_config=False,\n",
    "    human_input_mode=\"ALWAYS\",\n",
    "    is_termination_msg=lambda msg: \"terminate\" in msg.get(\"content\").lower(),\n",
    ")\n"
   ]
  },
  {
   "cell_type": "code",
   "execution_count": 4,
   "id": "8497ebee-d3b1-473a-8106-5ca55a494f46",
   "metadata": {},
   "outputs": [],
   "source": [
    "#Creating tasks\n",
    "#Now, you can craft a series of tasks to facilitate the onboarding process."
   ]
  },
  {
   "cell_type": "code",
   "execution_count": 5,
   "id": "b84ffa66-f5ba-4801-b9b5-8e95b6d6e4b1",
   "metadata": {},
   "outputs": [],
   "source": [
    "chats = [\n",
    "    {\n",
    "        \"sender\": onboarding_personal_information_agent,\n",
    "        \"recipient\": customer_proxy_agent,\n",
    "        \"message\": \"Hello, I'm here to help you get started with our product. Could you tell me your name and location?\",\n",
    "        \"summary_method\": \"reflection_with_llm\",\n",
    "        \"summary_args\": {\n",
    "            \"summary_prompt\": \"Return the customer information as JSON object only: {'name': '', 'location': ''}\",\n",
    "        },\n",
    "        \"max_turns\": 1,\n",
    "        \"clear_history\": True\n",
    "    },\n",
    "    {\n",
    "        \"sender\": onboarding_topic_preference_agent,\n",
    "        \"recipient\": customer_proxy_agent,\n",
    "        \"message\": \"Great! Could you tell me what topics you are interested in reading about?\",\n",
    "        \"summary_method\": \"reflection_with_llm\",\n",
    "        \"max_turns\": 1,\n",
    "        \"clear_history\": False\n",
    "    },\n",
    "    {\n",
    "        \"sender\": customer_proxy_agent,\n",
    "        \"recipient\": customer_engagement_agent,\n",
    "        \"message\": \"Let's find something fun to read.\",\n",
    "        \"max_turns\": 1,\n",
    "        \"summary_method\": \"reflection_with_llm\",\n",
    "    },\n",
    "]"
   ]
  },
  {
   "cell_type": "code",
   "execution_count": 6,
   "id": "65bfee72-fc25-4d39-b59b-0ab793ba09ce",
   "metadata": {},
   "outputs": [
    {
     "name": "stdout",
     "output_type": "stream",
     "text": [
      "\u001b[34m\n",
      "********************************************************************************\u001b[0m\n",
      "\u001b[34mStarting a new chat....\u001b[0m\n",
      "\u001b[34m\n",
      "********************************************************************************\u001b[0m\n",
      "\u001b[33monboarding_personal_information_agent\u001b[0m (to customer_proxy_agent):\n",
      "\n",
      "Hello, I'm here to help you get started with our product. Could you tell me your name and location?\n",
      "\n",
      "--------------------------------------------------------------------------------\n"
     ]
    },
    {
     "name": "stderr",
     "output_type": "stream",
     "text": [
      "C:\\Anaconda\\envs\\AgenticAI\\lib\\site-packages\\autogen\\agentchat\\chat.py:57: UserWarning: Repetitive recipients detected: The chat history will be cleared by default if a recipient appears more than once. To retain the chat history, please set 'clear_history=False' in the configuration of the repeating agent.\n",
      "  warnings.warn(\n"
     ]
    },
    {
     "name": "stdin",
     "output_type": "stream",
     "text": [
      "Replying as customer_proxy_agent. Provide feedback to onboarding_personal_information_agent. Press enter to skip and use auto-reply, or type 'exit' to end the conversation:  Hari, Bangalore\n"
     ]
    },
    {
     "name": "stdout",
     "output_type": "stream",
     "text": [
      "\u001b[33mcustomer_proxy_agent\u001b[0m (to onboarding_personal_information_agent):\n",
      "\n",
      "Hari, Bangalore\n",
      "\n",
      "--------------------------------------------------------------------------------\n",
      "\u001b[31m\n",
      ">>>>>>>> TERMINATING RUN (01f06d73-f628-484b-9f72-627baf78bcea): Maximum turns (1) reached\u001b[0m\n",
      "\u001b[34m\n",
      "********************************************************************************\u001b[0m\n",
      "\u001b[34mStarting a new chat....\u001b[0m\n",
      "\u001b[34m\n",
      "********************************************************************************\u001b[0m\n",
      "\u001b[33monboarding_topic_preference_agent\u001b[0m (to customer_proxy_agent):\n",
      "\n",
      "Great! Could you tell me what topics you are interested in reading about?\n",
      "Context: \n",
      "{'name': 'Hari', 'location': 'Bangalore'}\n",
      "\n",
      "--------------------------------------------------------------------------------\n"
     ]
    },
    {
     "name": "stdin",
     "output_type": "stream",
     "text": [
      "Replying as customer_proxy_agent. Provide feedback to onboarding_topic_preference_agent. Press enter to skip and use auto-reply, or type 'exit' to end the conversation:  Artificial Intelligence\n"
     ]
    },
    {
     "name": "stdout",
     "output_type": "stream",
     "text": [
      "\u001b[33mcustomer_proxy_agent\u001b[0m (to onboarding_topic_preference_agent):\n",
      "\n",
      "Artificial Intelligence\n",
      "\n",
      "--------------------------------------------------------------------------------\n",
      "\u001b[31m\n",
      ">>>>>>>> TERMINATING RUN (ccec1d74-8c2c-4d59-b1a4-3bfef49eb5e8): Maximum turns (1) reached\u001b[0m\n",
      "\u001b[34m\n",
      "********************************************************************************\u001b[0m\n",
      "\u001b[34mStarting a new chat....\u001b[0m\n",
      "\u001b[34m\n",
      "********************************************************************************\u001b[0m\n",
      "\u001b[33mcustomer_proxy_agent\u001b[0m (to customer_engagement_agent):\n",
      "\n",
      "Let's find something fun to read.\n",
      "Context: \n",
      "{'name': 'Hari', 'location': 'Bangalore'}\n",
      "I am interested in reading about Artificial Intelligence.\n",
      "\n",
      "--------------------------------------------------------------------------------\n",
      "\u001b[33mcustomer_engagement_agent\u001b[0m (to customer_proxy_agent):\n",
      "\n",
      "Hello Hari! Bangalore, the Silicon Valley of India!\n",
      "\n",
      "Hey, let me tell you a fascinating story about AI that I just can't wait to share with you!\n",
      "\n",
      "Did you know that the term \"Artificial Intelligence\" was coined by John McCarthy at a 1956 conference? He even suggested the name for the field because he wanted to emphasize that computers could be made to think like humans.\n",
      "\n",
      "Now, imagine if we could teach an AI system to learn like a human child. Sounds cool, right?\n",
      "\n",
      "In fact, researchers have already developed a language model named \"AlphaGo\" that can learn from experience and improve its performance over time. It even beat the world's top Go player!\n",
      "\n",
      "Here's a fun AI-related joke for you: Why did the AI program go to therapy? Because it had a little \"glitch\" in its personality! \n",
      "\n",
      "Now, would you like to explore more about the applications of AI or learn some fun facts about AI pioneers?\n",
      "\n",
      "What do you say, Hari?\n",
      "\n",
      "--------------------------------------------------------------------------------\n",
      "\u001b[31m\n",
      ">>>>>>>> TERMINATING RUN (46e6e81e-e6b5-4894-85d9-1e682c1d64ee): Maximum turns (1) reached\u001b[0m\n"
     ]
    }
   ],
   "source": [
    "from autogen import initiate_chats\n",
    "\n",
    "chat_results = initiate_chats(chats)"
   ]
  },
  {
   "cell_type": "code",
   "execution_count": 7,
   "id": "9d1a794e-8b92-40f1-a857-eb5c91ce81cc",
   "metadata": {},
   "outputs": [
    {
     "name": "stdout",
     "output_type": "stream",
     "text": [
      "{'content': \"{'name': 'Hari', 'location': 'Bangalore'}\", 'refusal': None, 'role': 'assistant', 'annotations': None, 'audio': None, 'function_call': None, 'tool_calls': None}\n",
      "\n",
      "\n",
      "{'content': 'I am interested in reading about Artificial Intelligence.', 'refusal': None, 'role': 'assistant', 'annotations': None, 'audio': None, 'function_call': None, 'tool_calls': None}\n",
      "\n",
      "\n",
      "{'content': 'We discussed an introduction to Artificial Intelligence, its history, and a hypothetical scenario where an AI system learns like a human child. A fun AI-related joke was also shared.', 'refusal': None, 'role': 'assistant', 'annotations': None, 'audio': None, 'function_call': None, 'tool_calls': None}\n",
      "\n",
      "\n"
     ]
    }
   ],
   "source": [
    "summary=[]\n",
    "for chat_result in chat_results:\n",
    "    print(chat_result.summary)\n",
    "    summary.append(chat_result.summary)\n",
    "    print(\"\\n\")"
   ]
  },
  {
   "cell_type": "code",
   "execution_count": 8,
   "id": "c88fbfa1-1981-4101-8398-d72af196d7a9",
   "metadata": {},
   "outputs": [
    {
     "data": {
      "text/plain": [
       "\"{'name': 'Hari', 'location': 'Bangalore'}\""
      ]
     },
     "execution_count": 8,
     "metadata": {},
     "output_type": "execute_result"
    }
   ],
   "source": [
    "summary[0][\"content\"]"
   ]
  },
  {
   "cell_type": "code",
   "execution_count": 9,
   "id": "a51846e2-99ba-4c96-9b85-860b1af7ab6a",
   "metadata": {},
   "outputs": [
    {
     "data": {
      "text/html": [
       "<div>\n",
       "<style scoped>\n",
       "    .dataframe tbody tr th:only-of-type {\n",
       "        vertical-align: middle;\n",
       "    }\n",
       "\n",
       "    .dataframe tbody tr th {\n",
       "        vertical-align: top;\n",
       "    }\n",
       "\n",
       "    .dataframe thead th {\n",
       "        text-align: right;\n",
       "    }\n",
       "</style>\n",
       "<table border=\"1\" class=\"dataframe\">\n",
       "  <thead>\n",
       "    <tr style=\"text-align: right;\">\n",
       "      <th></th>\n",
       "      <th>name</th>\n",
       "      <th>location</th>\n",
       "    </tr>\n",
       "  </thead>\n",
       "  <tbody>\n",
       "    <tr>\n",
       "      <th>0</th>\n",
       "      <td>Hari</td>\n",
       "      <td>Bangalore</td>\n",
       "    </tr>\n",
       "  </tbody>\n",
       "</table>\n",
       "</div>"
      ],
      "text/plain": [
       "   name   location\n",
       "0  Hari  Bangalore"
      ]
     },
     "execution_count": 9,
     "metadata": {},
     "output_type": "execute_result"
    }
   ],
   "source": [
    "import pandas as pd\n",
    "import ast\n",
    "\n",
    "# Input string\n",
    "#data_str = \"{'name': 'Ramisha', 'location': 'Coimbatore'}\"\n",
    "data_str=summary[0][\"content\"]\n",
    "# Convert string to dictionary\n",
    "data_dict = ast.literal_eval(data_str)\n",
    "\n",
    "# Convert dictionary to DataFrame\n",
    "df = pd.DataFrame([data_dict])\n",
    "\n",
    "df"
   ]
  },
  {
   "cell_type": "code",
   "execution_count": 10,
   "id": "c3046910-6cf6-4167-bb10-f67447a142bf",
   "metadata": {},
   "outputs": [],
   "source": [
    "df[\"TopicPreference\"]=summary[1][\"content\"]"
   ]
  },
  {
   "cell_type": "code",
   "execution_count": 11,
   "id": "e106790b-ea65-4fbe-996a-4b7beb94893b",
   "metadata": {},
   "outputs": [],
   "source": [
    "df[\"Enagement\"]=summary[2][\"content\"]"
   ]
  },
  {
   "cell_type": "code",
   "execution_count": 12,
   "id": "34c040e2-de5b-4e21-8cf1-4fddc3846dd4",
   "metadata": {},
   "outputs": [
    {
     "data": {
      "text/html": [
       "<div>\n",
       "<style scoped>\n",
       "    .dataframe tbody tr th:only-of-type {\n",
       "        vertical-align: middle;\n",
       "    }\n",
       "\n",
       "    .dataframe tbody tr th {\n",
       "        vertical-align: top;\n",
       "    }\n",
       "\n",
       "    .dataframe thead th {\n",
       "        text-align: right;\n",
       "    }\n",
       "</style>\n",
       "<table border=\"1\" class=\"dataframe\">\n",
       "  <thead>\n",
       "    <tr style=\"text-align: right;\">\n",
       "      <th></th>\n",
       "      <th>name</th>\n",
       "      <th>location</th>\n",
       "      <th>TopicPreference</th>\n",
       "      <th>Enagement</th>\n",
       "    </tr>\n",
       "  </thead>\n",
       "  <tbody>\n",
       "    <tr>\n",
       "      <th>0</th>\n",
       "      <td>Hari</td>\n",
       "      <td>Bangalore</td>\n",
       "      <td>I am interested in reading about Artificial In...</td>\n",
       "      <td>We discussed an introduction to Artificial Int...</td>\n",
       "    </tr>\n",
       "  </tbody>\n",
       "</table>\n",
       "</div>"
      ],
      "text/plain": [
       "   name   location                                    TopicPreference  \\\n",
       "0  Hari  Bangalore  I am interested in reading about Artificial In...   \n",
       "\n",
       "                                           Enagement  \n",
       "0  We discussed an introduction to Artificial Int...  "
      ]
     },
     "execution_count": 12,
     "metadata": {},
     "output_type": "execute_result"
    }
   ],
   "source": [
    "df"
   ]
  },
  {
   "cell_type": "code",
   "execution_count": null,
   "id": "6fe940a5-9080-437b-a224-4c4e3a24a109",
   "metadata": {},
   "outputs": [],
   "source": []
  }
 ],
 "metadata": {
  "kernelspec": {
   "display_name": "Python 3 (ipykernel)",
   "language": "python",
   "name": "python3"
  },
  "language_info": {
   "codemirror_mode": {
    "name": "ipython",
    "version": 3
   },
   "file_extension": ".py",
   "mimetype": "text/x-python",
   "name": "python",
   "nbconvert_exporter": "python",
   "pygments_lexer": "ipython3",
   "version": "3.10.16"
  }
 },
 "nbformat": 4,
 "nbformat_minor": 5
}
